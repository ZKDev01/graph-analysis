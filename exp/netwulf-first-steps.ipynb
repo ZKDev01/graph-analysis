{
 "cells": [
  {
   "cell_type": "markdown",
   "metadata": {},
   "source": [
    "# Learning: Netwulf\n",
    "\n",
    "## Modulos"
   ]
  },
  {
   "cell_type": "code",
   "execution_count": 11,
   "metadata": {},
   "outputs": [],
   "source": [
    "import matplotlib.pyplot as pl  \n",
    "import networkx as nx \n",
    "import netwulf as wulf"
   ]
  },
  {
   "cell_type": "markdown",
   "metadata": {},
   "source": [
    "## Declarando un grafo"
   ]
  },
  {
   "cell_type": "code",
   "execution_count": 12,
   "metadata": {},
   "outputs": [],
   "source": [
    "G = nx.barabasi_albert_graph(10, 3)"
   ]
  },
  {
   "cell_type": "markdown",
   "metadata": {},
   "source": [
    "## Visualización del grafo"
   ]
  },
  {
   "cell_type": "code",
   "execution_count": 20,
   "metadata": {},
   "outputs": [],
   "source": [
    "stylized_network, config = wulf.visualize(G)"
   ]
  },
  {
   "cell_type": "code",
   "execution_count": 17,
   "metadata": {},
   "outputs": [
    {
     "data": {
      "text/plain": [
       "{'xlim': [0, 543],\n",
       " 'ylim': [0, 543],\n",
       " 'linkColor': '#7c7c7c',\n",
       " 'linkAlpha': 0.5,\n",
       " 'nodeStrokeColor': '#555555',\n",
       " 'nodeStrokeWidth': 1,\n",
       " 'links': [{'source': 0, 'target': 1, 'width': 2, 'weight': 1},\n",
       "  {'source': 0, 'target': 2, 'width': 2, 'weight': 1},\n",
       "  {'source': 0, 'target': 3, 'width': 2, 'weight': 1},\n",
       "  {'source': 0, 'target': 4, 'width': 2, 'weight': 1},\n",
       "  {'source': 0, 'target': 5, 'width': 2, 'weight': 1},\n",
       "  {'source': 0, 'target': 6, 'width': 2, 'weight': 1},\n",
       "  {'source': 0, 'target': 7, 'width': 2, 'weight': 1},\n",
       "  {'source': 0, 'target': 9, 'width': 2, 'weight': 1},\n",
       "  {'source': 2, 'target': 4, 'width': 2, 'weight': 1},\n",
       "  {'source': 3, 'target': 4, 'width': 2, 'weight': 1},\n",
       "  {'source': 3, 'target': 5, 'width': 2, 'weight': 1},\n",
       "  {'source': 3, 'target': 7, 'width': 2, 'weight': 1},\n",
       "  {'source': 3, 'target': 8, 'width': 2, 'weight': 1},\n",
       "  {'source': 3, 'target': 9, 'width': 2, 'weight': 1},\n",
       "  {'source': 4, 'target': 5, 'width': 2, 'weight': 1},\n",
       "  {'source': 4, 'target': 6, 'width': 2, 'weight': 1},\n",
       "  {'source': 5, 'target': 6, 'width': 2, 'weight': 1},\n",
       "  {'source': 5, 'target': 7, 'width': 2, 'weight': 1},\n",
       "  {'source': 5, 'target': 8, 'width': 2, 'weight': 1},\n",
       "  {'source': 7, 'target': 8, 'width': 2, 'weight': 1},\n",
       "  {'source': 7, 'target': 9, 'width': 2, 'weight': 1}],\n",
       " 'nodes': [{'id': 0,\n",
       "   'x': 265.5752499812954,\n",
       "   'y': 256.1342722486427,\n",
       "   'x_canvas': 265.5752499812954,\n",
       "   'y_canvas': 256.1342722486427,\n",
       "   'radius': 5,\n",
       "   'color': '#79aaa0'},\n",
       "  {'id': 1,\n",
       "   'x': 244.84468485171834,\n",
       "   'y': 272.7510582642719,\n",
       "   'x_canvas': 244.84468485171834,\n",
       "   'y_canvas': 272.7510582642719,\n",
       "   'radius': 5,\n",
       "   'color': '#79aaa0'},\n",
       "  {'id': 2,\n",
       "   'x': 241.7191790683478,\n",
       "   'y': 247.38549824153438,\n",
       "   'x_canvas': 241.7191790683478,\n",
       "   'y_canvas': 247.38549824153438,\n",
       "   'radius': 5,\n",
       "   'color': '#79aaa0'},\n",
       "  {'id': 3,\n",
       "   'x': 285.77804876736565,\n",
       "   'y': 294.4145295834318,\n",
       "   'x_canvas': 285.77804876736565,\n",
       "   'y_canvas': 294.4145295834318,\n",
       "   'radius': 5,\n",
       "   'color': '#79aaa0'},\n",
       "  {'id': 4,\n",
       "   'x': 253.5066569298975,\n",
       "   'y': 267.2164281738278,\n",
       "   'x_canvas': 253.5066569298975,\n",
       "   'y_canvas': 267.2164281738278,\n",
       "   'radius': 5,\n",
       "   'color': '#79aaa0'},\n",
       "  {'id': 5,\n",
       "   'x': 288.0099518526281,\n",
       "   'y': 273.22273342101005,\n",
       "   'x_canvas': 288.0099518526281,\n",
       "   'y_canvas': 273.22273342101005,\n",
       "   'radius': 5,\n",
       "   'color': '#79aaa0'},\n",
       "  {'id': 6,\n",
       "   'x': 259.9918388161055,\n",
       "   'y': 289.22626126351804,\n",
       "   'x_canvas': 259.9918388161055,\n",
       "   'y_canvas': 289.22626126351804,\n",
       "   'radius': 5,\n",
       "   'color': '#79aaa0'},\n",
       "  {'id': 7,\n",
       "   'x': 295.0120903074877,\n",
       "   'y': 256.4404260741575,\n",
       "   'x_canvas': 295.0120903074877,\n",
       "   'y_canvas': 256.4404260741575,\n",
       "   'radius': 5,\n",
       "   'color': '#79aaa0'},\n",
       "  {'id': 8,\n",
       "   'x': 308.29681467660134,\n",
       "   'y': 279.30127265463585,\n",
       "   'x_canvas': 308.29681467660134,\n",
       "   'y_canvas': 279.30127265463585,\n",
       "   'radius': 5,\n",
       "   'color': '#79aaa0'},\n",
       "  {'id': 9,\n",
       "   'x': 275.4759558755446,\n",
       "   'y': 276.2185152258924,\n",
       "   'x_canvas': 275.4759558755446,\n",
       "   'y_canvas': 276.2185152258924,\n",
       "   'radius': 5,\n",
       "   'color': '#79aaa0'}]}"
      ]
     },
     "execution_count": 17,
     "metadata": {},
     "output_type": "execute_result"
    }
   ],
   "source": [
    "stylized_network"
   ]
  },
  {
   "cell_type": "code",
   "execution_count": 18,
   "metadata": {},
   "outputs": [
    {
     "data": {
      "text/plain": [
       "{'zoom': 1,\n",
       " 'node_charge': -45,\n",
       " 'node_gravity': 0.1,\n",
       " 'link_distance': 15,\n",
       " 'link_distance_variation': 0,\n",
       " 'node_collision': True,\n",
       " 'wiggle_nodes': False,\n",
       " 'freeze_nodes': False,\n",
       " 'node_fill_color': '#79aaa0',\n",
       " 'node_stroke_color': '#555555',\n",
       " 'node_label_color': '#000000',\n",
       " 'display_node_labels': False,\n",
       " 'scale_node_size_by_strength': False,\n",
       " 'node_size': 5,\n",
       " 'node_stroke_width': 1,\n",
       " 'node_size_variation': 0.5,\n",
       " 'link_color': '#7c7c7c',\n",
       " 'link_width': 2,\n",
       " 'link_alpha': 0.5,\n",
       " 'link_width_variation': 0.5,\n",
       " 'display_singleton_nodes': True,\n",
       " 'min_link_weight_percentile': 0,\n",
       " 'max_link_weight_percentile': 1}"
      ]
     },
     "execution_count": 18,
     "metadata": {},
     "output_type": "execute_result"
    }
   ],
   "source": [
    "config"
   ]
  },
  {
   "cell_type": "code",
   "execution_count": 22,
   "metadata": {},
   "outputs": [
    {
     "data": {
      "text/plain": [
       "(None, None)"
      ]
     },
     "execution_count": 22,
     "metadata": {},
     "output_type": "execute_result"
    }
   ],
   "source": [
    "wulf.visualize(G, config=config)"
   ]
  }
 ],
 "metadata": {
  "kernelspec": {
   "display_name": "Python 3",
   "language": "python",
   "name": "python3"
  },
  "language_info": {
   "codemirror_mode": {
    "name": "ipython",
    "version": 3
   },
   "file_extension": ".py",
   "mimetype": "text/x-python",
   "name": "python",
   "nbconvert_exporter": "python",
   "pygments_lexer": "ipython3",
   "version": "3.12.2"
  }
 },
 "nbformat": 4,
 "nbformat_minor": 2
}
