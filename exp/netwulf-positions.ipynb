{
 "cells": [
  {
   "cell_type": "code",
   "execution_count": 12,
   "metadata": {},
   "outputs": [],
   "source": [
    "import networkx as nx\n",
    "import netwulf as wulf\n",
    "import matplotlib.pyplot as plt "
   ]
  },
  {
   "cell_type": "code",
   "execution_count": 13,
   "metadata": {},
   "outputs": [],
   "source": [
    "G = nx.Graph()\n",
    "G.add_nodes_from( [0,1,2,'a','b','c'] )\n",
    "G.add_edges_from( [ (0,1),('a','b') ] )\n",
    "\n",
    "network, config = wulf.visualize(G, \n",
    "  config = { \n",
    "    'zoom' : 3 \n",
    "  } )"
   ]
  },
  {
   "cell_type": "code",
   "execution_count": 14,
   "metadata": {},
   "outputs": [
    {
     "data": {
      "image/png": "[encoded data removed]",
      "text/plain": [
       "<Figure size 480x480 with 1 Axes>"
      ]
     },
     "metadata": {},
     "output_type": "display_data"
    }
   ],
   "source": [
    "fig, ax = wulf.draw_netwulf( network, draw_nodes=False )"
   ]
  },
  {
   "cell_type": "code",
   "execution_count": 15,
   "metadata": {},
   "outputs": [],
   "source": [
    "v0 = wulf.node_pos( network, 'c' )\n",
    "v1 = wulf.node_pos( network, 2 )\n",
    "\n",
    "ax.plot( [ v0[0], v1[0] ], [ v0[1], v1[1] ], c='#d95f02' )\n",
    "\n",
    "wulf.add_node_label( ax, network, 'c' )\n",
    "wulf.add_edge_label( ax, network, ( 'a','b' ) )"
   ]
  },
  {
   "cell_type": "code",
   "execution_count": 16,
   "metadata": {},
   "outputs": [],
   "source": [
    "fig, ax = wulf.draw_netwulf(network, fig=fig, ax=ax, draw_links=False)"
   ]
  }
 ],
 "metadata": {
  "kernelspec": {
   "display_name": "Python 3",
   "language": "python",
   "name": "python3"
  },
  "language_info": {
   "codemirror_mode": {
    "name": "ipython",
    "version": 3
   },
   "file_extension": ".py",
   "mimetype": "text/x-python",
   "name": "python",
   "nbconvert_exporter": "python",
   "pygments_lexer": "ipython3",
   "version": "3.12.2"
  }
 },
 "nbformat": 4,
 "nbformat_minor": 2
}
