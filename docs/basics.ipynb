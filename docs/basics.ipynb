{
 "cells": [
  {
   "cell_type": "code",
   "execution_count": null,
   "metadata": {},
   "outputs": [],
   "source": []
  },
  {
   "cell_type": "markdown",
   "metadata": {},
   "source": [
    "# Teoría de Grafos \n",
    "\n",
    "## Matriz de adyacencia \n",
    "\n",
    "Para analizar un grafo existen dos formas:\n",
    "- Lista de ejes o edgelist\n",
    "- Matriz de adyacencia\n",
    "\n",
    "La lista de ejes es simplemente una lista en la que se indican todas las conexiones. Mientras que la matriz de adyacencia es una matriz de dimensión $N\\times N$, siendo $N$ el número de nodos y donde aparece un 1 si la conexión entre un par de nodos existe y un 0 de lo contrario. Para grafos ponderados, en vez de un 1, la matriz presenta el valor del peso de la conexión. \n",
    "\n",
    "La desventaja de la matriz de adyacencia, es que para grafos muy grandes, puede ocupar mucho espacio. Por este motivo, se utiliza con frecuencia una matriz de adyacencia sparse, que internamente únicamente almacena la información de las conexiones existentes, es decir, no almacena los ceros\n",
    "\n",
    "![alt-image](../resources/figure_1.png)\n",
    "\n",
    "$$A = \\left[ \\begin{matrix} \n",
    "0 & 1 & 0 & 1 & 1 \\\\\n",
    "1 & 0 & 1 & 1 & 0 \\\\\n",
    "0 & 1 & 0 & 0 & 0 \\\\\n",
    "1 & 1 & 0 & 0 & 1 \\\\\n",
    "1 & 0 & 0 & 1 & 0\n",
    "\\end{matrix} \\right]$$\n",
    "\n",
    "### Formulación matemática \n",
    "\n",
    "La matriz de adyacencia de un grafo dirigido de $N$ nodos tiene $N$ filas y $N$ columnas, siendo sus elementos:\n",
    "- $A_{ij} = 1$ si existe un enlace que apunta desde el nodo $j$ al nodo $i$\n",
    "- $A_{ij} = 0$ si los nodos $i$ y $j$ no están conectados entre sí\n",
    "\n",
    "## Meta-información de nodos y ejes\n",
    "\n",
    "La información adicional de los nodos y enlaces que no pertenece estrictamente al grafo se denomina *meta-información* y suele almacenar a modo de tabla, cuyas filas son los nodos o enlaces y sus columnas son las variables disponibles de cada uno. Si se utiliza el ejemplo de la red social, la meta-información de los nodos podría ser el nombre, edad, aficiones, etc. \n",
    "\n",
    "## Grafos bipartitos y proyecciones\n",
    "\n",
    "Un grafo bipartito es una red cuyos nodos se pueden dividir en dos conjuntos disjuntos $U$ y $V$ de tal manera que los enlaces conectan nodos de $U$ con nodos de $V$. En otras palabras, si se colorean los nodos $U$ de verde y los nodos $V$ de morado, únicamente existen enlaces que conecten nodos de diferentes colores.\n",
    "\n",
    "![alt-image](../resources/figure_2.png)\n",
    "\n",
    "*Proyección del subconjunto de nodos [1,2,3,4,5,6,7]*\n",
    "\n",
    "![alt-image](../resources/figure_3.png)\n",
    "\n",
    "Es posible generar dos proyecciones para cada red bipartita. La primera proyección conecta nodos $U$ si estos están conectados con el mismo nodo $V$ en la representación bipartita. La segunda proyección conecta nodos $V$ si estos están conectados con el mismo nodo $U$ en la representación bipartita\n",
    "\n",
    "## Algunas propiedades en los vértices y nodos\n",
    "\n",
    "**Clustering**: medida de la cantidad de enlaces existentes entre los vecinos de un nodo\n",
    "\n",
    "### Medidads de Centralidad\n",
    "\n",
    "**Centralidad de grafo**: es la medida más simple, se basa en el número de enlaces que tiene un nodo, la suma de enlaces que entran y salen\n",
    "\n",
    "**Centralidad de intermediación**: mide la cantidad de caminos que pasan por un nodo\n",
    "\n",
    "**Centralidad de cercanía**: mide la distancia promedio desde un nodo a todos los demás nodos del grafo\n",
    "\n",
    "## Grafos con NetworkX\n",
    "\n",
    "`NetworkX` es una librería de Python más utilizada para trabajar con grafos y redes. Permite crear, manipular y analizar grafos de manera eficiente. \n",
    "\n",
    "Una de las principales ventajas de `NetworkX` es su capacidad para trabajar con grafos de gran tamaño y complejidad, permitiendo manejar grafos con millones de nodos y enlaces. La librería cuenta con una gran variedad de funcionalidades que permiten crear, importar y exportar grafos en múltiples formatos, así como analizar las propiedades de estas redes (grado medio, la densidad, el coeficiente de clustering, el camino más corto entre dos nodos, y muchas otras más). Además, cuenta con una serie de algoritmos para buscar patrones, como la detección de comunidades, detección de centralidad y detección de componentes conectados."
   ]
  },
  {
   "cell_type": "markdown",
   "metadata": {},
   "source": [
    "## Importación de Librerías necesarias"
   ]
  },
  {
   "cell_type": "code",
   "execution_count": 1,
   "metadata": {},
   "outputs": [],
   "source": [
    "import networkx as nx\n",
    "import pandas as pd\n",
    "import matplotlib.pyplot as plt\n",
    "\n",
    "import warnings \n",
    "warnings.filterwarnings(\"ignore\")"
   ]
  },
  {
   "cell_type": "markdown",
   "metadata": {},
   "source": [
    "## Creación manual"
   ]
  },
  {
   "cell_type": "code",
   "execution_count": 2,
   "metadata": {},
   "outputs": [
    {
     "name": "stdout",
     "output_type": "stream",
     "text": [
      "====== Informacion del grafo ======\n",
      "G              -> Graph with 0 nodes and 0 edges\n",
      "Es dirigido?   -> False\n",
      "Es multigrafo? -> False\n",
      "\n"
     ]
    }
   ],
   "source": [
    "# Grafo vacio\n",
    "G = nx.Graph()\n",
    "\n",
    "print(f\"\"\"====== Informacion del grafo ======\n",
    "G              -> {G}\n",
    "Es dirigido?   -> {G.is_directed()}\n",
    "Es multigrafo? -> {G.is_multigraph()}\n",
    "\"\"\")"
   ]
  },
  {
   "cell_type": "code",
   "execution_count": 3,
   "metadata": {},
   "outputs": [
    {
     "name": "stdout",
     "output_type": "stream",
     "text": [
      "Graph with 1 nodes and 0 edges\n"
     ]
    },
    {
     "data": {
      "image/png": "[encoded data removed]",
      "text/plain": [
       "<Figure size 100x100 with 1 Axes>"
      ]
     },
     "metadata": {},
     "output_type": "display_data"
    }
   ],
   "source": [
    "# Adicion de un nodo \n",
    "G.add_node('A')\n",
    "\n",
    "fig, ax = plt.subplots(figsize=(1,1))\n",
    "nx.draw(G, with_labels=True, ax=ax)\n",
    "print(G)"
   ]
  },
  {
   "cell_type": "code",
   "execution_count": 4,
   "metadata": {},
   "outputs": [
    {
     "name": "stdout",
     "output_type": "stream",
     "text": [
      "Graph with 3 nodes and 0 edges\n"
     ]
    },
    {
     "data": {
      "image/png": "[encoded data removed]",
      "text/plain": [
       "<Figure size 300x200 with 1 Axes>"
      ]
     },
     "metadata": {},
     "output_type": "display_data"
    }
   ],
   "source": [
    "# Adicion de multiples nodos\n",
    "G.add_nodes_from(['B', 'C'])\n",
    "\n",
    "fig, ax = plt.subplots(figsize=(3, 2))\n",
    "nx.draw(G, with_labels=True, ax=ax)\n",
    "ax.set_xlim([1.2*x for x in ax.get_xlim()])\n",
    "ax.set_ylim([1.2*y for y in ax.get_ylim()])\n",
    "print(G)"
   ]
  },
  {
   "cell_type": "code",
   "execution_count": 5,
   "metadata": {},
   "outputs": [
    {
     "name": "stdout",
     "output_type": "stream",
     "text": [
      "Graph with 3 nodes and 1 edges\n"
     ]
    },
    {
     "data": {
      "image/png": "[encoded data removed]",
      "text/plain": [
       "<Figure size 300x200 with 1 Axes>"
      ]
     },
     "metadata": {},
     "output_type": "display_data"
    }
   ],
   "source": [
    "# Adicion de una arista\n",
    "G.add_edge('A', 'B')\n",
    "\n",
    "fig, ax = plt.subplots(figsize=(3, 2))\n",
    "nx.draw(G, with_labels=True, ax=ax)\n",
    "ax.set_xlim([1.2*x for x in ax.get_xlim()])\n",
    "ax.set_ylim([1.2*y for y in ax.get_ylim()])\n",
    "print(G)"
   ]
  },
  {
   "cell_type": "code",
   "execution_count": 6,
   "metadata": {},
   "outputs": [
    {
     "name": "stdout",
     "output_type": "stream",
     "text": [
      "Graph with 3 nodes and 3 edges\n"
     ]
    },
    {
     "data": {
      "image/png": "[encoded data removed]",
      "text/plain": [
       "<Figure size 300x200 with 1 Axes>"
      ]
     },
     "metadata": {},
     "output_type": "display_data"
    }
   ],
   "source": [
    "# Adicion de multiples aristas \n",
    "G.add_edges_from([('A', 'C'), ('B', 'C')])\n",
    "\n",
    "fig, ax = plt.subplots(figsize=(3, 2))\n",
    "nx.draw(G, with_labels=True, ax=ax)\n",
    "ax.set_xlim([1.2*x for x in ax.get_xlim()])\n",
    "ax.set_ylim([1.2*y for y in ax.get_ylim()])\n",
    "print(G)"
   ]
  },
  {
   "cell_type": "code",
   "execution_count": 7,
   "metadata": {},
   "outputs": [
    {
     "name": "stdout",
     "output_type": "stream",
     "text": [
      "Graph with 6 nodes and 5 edges\n"
     ]
    },
    {
     "data": {
      "image/png": "[encoded data removed]",
      "text/plain": [
       "<Figure size 400x400 with 1 Axes>"
      ]
     },
     "metadata": {},
     "output_type": "display_data"
    }
   ],
   "source": [
    "# Adicion de nodos en el grafo segun las aristas que se añadan\n",
    "G.add_edges_from([('D', 'E'), ('E', 'F')])\n",
    "\n",
    "fig, ax = plt.subplots(figsize=(4, 4))\n",
    "nx.draw(G, with_labels=True, ax=ax)\n",
    "ax.set_xlim([1.2*x for x in ax.get_xlim()])\n",
    "ax.set_ylim([1.2*y for y in ax.get_ylim()])\n",
    "print(G)"
   ]
  },
  {
   "cell_type": "markdown",
   "metadata": {},
   "source": [
    "## Matriz de adyacencia de un grafo"
   ]
  },
  {
   "cell_type": "code",
   "execution_count": 8,
   "metadata": {},
   "outputs": [
    {
     "data": {
      "text/plain": [
       "array([[0, 1, 1, 0, 0, 0],\n",
       "       [1, 0, 1, 0, 0, 0],\n",
       "       [1, 1, 0, 0, 0, 0],\n",
       "       [0, 0, 0, 0, 1, 0],\n",
       "       [0, 0, 0, 1, 0, 1],\n",
       "       [0, 0, 0, 0, 1, 0]])"
      ]
     },
     "execution_count": 8,
     "metadata": {},
     "output_type": "execute_result"
    }
   ],
   "source": [
    "adj = nx.adjacency_matrix(G)\n",
    "\n",
    "adj = adj.todense()\n",
    "adj"
   ]
  },
  {
   "cell_type": "code",
   "execution_count": 9,
   "metadata": {},
   "outputs": [
    {
     "name": "stdout",
     "output_type": "stream",
     "text": [
      "===== Informacion del grafo =====\n",
      "Nodos del grafo:      ['A', 'B', 'C', 'D', 'E', 'F']\n",
      "Aristas del grafo:    [('A', 'B'), ('A', 'C'), ('B', 'C'), ('D', 'E'), ('E', 'F')]\n",
      "\n"
     ]
    }
   ],
   "source": [
    "print(f\"\"\"===== Informacion del grafo =====\n",
    "Nodos del grafo:      {G.nodes}\n",
    "Aristas del grafo:    {G.edges}\n",
    "\"\"\")"
   ]
  },
  {
   "cell_type": "markdown",
   "metadata": {},
   "source": [
    "## Creación desde un DataFrame"
   ]
  },
  {
   "cell_type": "code",
   "execution_count": 10,
   "metadata": {},
   "outputs": [
    {
     "data": {
      "text/html": [
       "<div>\n",
       "<style scoped>\n",
       "    .dataframe tbody tr th:only-of-type {\n",
       "        vertical-align: middle;\n",
       "    }\n",
       "\n",
       "    .dataframe tbody tr th {\n",
       "        vertical-align: top;\n",
       "    }\n",
       "\n",
       "    .dataframe thead th {\n",
       "        text-align: right;\n",
       "    }\n",
       "</style>\n",
       "<table border=\"1\" class=\"dataframe\">\n",
       "  <thead>\n",
       "    <tr style=\"text-align: right;\">\n",
       "      <th></th>\n",
       "      <th>begin</th>\n",
       "      <th>end</th>\n",
       "    </tr>\n",
       "  </thead>\n",
       "  <tbody>\n",
       "    <tr>\n",
       "      <th>0</th>\n",
       "      <td>A</td>\n",
       "      <td>C</td>\n",
       "    </tr>\n",
       "    <tr>\n",
       "      <th>1</th>\n",
       "      <td>B</td>\n",
       "      <td>C</td>\n",
       "    </tr>\n",
       "    <tr>\n",
       "      <th>2</th>\n",
       "      <td>C</td>\n",
       "      <td>D</td>\n",
       "    </tr>\n",
       "  </tbody>\n",
       "</table>\n",
       "</div>"
      ],
      "text/plain": [
       "  begin end\n",
       "0     A   C\n",
       "1     B   C\n",
       "2     C   D"
      ]
     },
     "execution_count": 10,
     "metadata": {},
     "output_type": "execute_result"
    }
   ],
   "source": [
    "collection = pd.DataFrame(\n",
    "  {\n",
    "    \"begin\": ['A', 'B', 'C'],\n",
    "    \"end\":   ['C', 'C', 'D']\n",
    "  }\n",
    ")\n",
    "collection"
   ]
  },
  {
   "cell_type": "code",
   "execution_count": 11,
   "metadata": {},
   "outputs": [
    {
     "data": {
      "image/png": "[encoded data removed]",
      "text/plain": [
       "<Figure size 300x200 with 1 Axes>"
      ]
     },
     "metadata": {},
     "output_type": "display_data"
    }
   ],
   "source": [
    "fig, ax = plt.subplots(figsize=(3,2))\n",
    "G = nx.from_pandas_edgelist(collection, source=\"begin\", target=\"end\")\n",
    "nx.draw(G, with_labels=True, ax=ax)"
   ]
  },
  {
   "cell_type": "markdown",
   "metadata": {},
   "source": [
    "## Grafos Dirigidos"
   ]
  },
  {
   "cell_type": "code",
   "execution_count": 12,
   "metadata": {},
   "outputs": [
    {
     "name": "stdout",
     "output_type": "stream",
     "text": [
      "====== Informacion del grafo ======\n",
      "G              -> DiGraph with 5 nodes and 6 edges\n",
      "Es dirigido?   -> True\n",
      "Es multigrafo? -> False\n",
      "\n"
     ]
    }
   ],
   "source": [
    "# Creacion manual\n",
    "G = nx.DiGraph()\n",
    "G.add_edges_from([(1, 2), (2, 3), (1, 4), (1, 5), (4, 2), (5, 4)])\n",
    "\n",
    "print(f\"\"\"====== Informacion del grafo ======\n",
    "G              -> {G}\n",
    "Es dirigido?   -> {G.is_directed()}\n",
    "Es multigrafo? -> {G.is_multigraph()}\n",
    "\"\"\")"
   ]
  },
  {
   "cell_type": "code",
   "execution_count": 13,
   "metadata": {},
   "outputs": [
    {
     "data": {
      "image/png": "[encoded data removed]",
      "text/plain": [
       "<Figure size 300x200 with 1 Axes>"
      ]
     },
     "metadata": {},
     "output_type": "display_data"
    }
   ],
   "source": [
    "# Representacion grafica \n",
    "fig, ax = plt.subplots(figsize=(3,2))\n",
    "nx.draw(G, with_labels=True, ax=ax)"
   ]
  },
  {
   "cell_type": "code",
   "execution_count": 14,
   "metadata": {},
   "outputs": [
    {
     "data": {
      "image/png": "[encoded data removed]",
      "text/plain": [
       "<Figure size 300x200 with 1 Axes>"
      ]
     },
     "metadata": {},
     "output_type": "display_data"
    }
   ],
   "source": [
    "# Creacion desde un DataFrame\n",
    "G = nx.from_pandas_edgelist(\n",
    "  collection,\n",
    "  source = \"begin\",\n",
    "  target = \"end\",\n",
    "  create_using = nx.DiGraph\n",
    ")\n",
    "fig, ax = plt.subplots(figsize=(3,2))\n",
    "nx.draw(G, with_labels=True, ax=ax)"
   ]
  },
  {
   "cell_type": "code",
   "execution_count": 15,
   "metadata": {},
   "outputs": [
    {
     "data": {
      "text/plain": [
       "array([[0, 1, 0, 0],\n",
       "       [0, 0, 0, 1],\n",
       "       [0, 1, 0, 0],\n",
       "       [0, 0, 0, 0]])"
      ]
     },
     "execution_count": 15,
     "metadata": {},
     "output_type": "execute_result"
    }
   ],
   "source": [
    "# Matriz de adjacencia\n",
    "## No es SIMETRICA\n",
    "\n",
    "adj = nx.adjacency_matrix(G)\n",
    "adj = adj.todense()\n",
    "adj"
   ]
  },
  {
   "cell_type": "markdown",
   "metadata": {},
   "source": [
    "## Distancia entre dos nodos\n",
    "\n",
    "Para obtener la distancia de orden 2 entre cualquier par de nodos, basta con multiplicar la matriz de adyacencia por sí misma. Si la multiplicamos por sí misma `n` veces, obtenemos la matriz de distancias de orden `n`"
   ]
  },
  {
   "cell_type": "code",
   "execution_count": 16,
   "metadata": {},
   "outputs": [
    {
     "data": {
      "image/png": "[encoded data removed]",
      "text/plain": [
       "<Figure size 300x200 with 1 Axes>"
      ]
     },
     "metadata": {},
     "output_type": "display_data"
    }
   ],
   "source": [
    "G = nx.Graph()\n",
    "G.add_edges_from([(1, 2), (2, 3), (1, 4), (1, 5), (4, 2), (5, 4)])\n",
    "\n",
    "fig, ax = plt.subplots(figsize=(3,2))\n",
    "nx.draw(G, with_labels=True, ax=ax)"
   ]
  },
  {
   "cell_type": "code",
   "execution_count": 17,
   "metadata": {},
   "outputs": [
    {
     "data": {
      "text/plain": [
       "array([[0, 1, 0, 1, 1],\n",
       "       [1, 0, 1, 1, 0],\n",
       "       [0, 1, 0, 0, 0],\n",
       "       [1, 1, 0, 0, 1],\n",
       "       [1, 0, 0, 1, 0]])"
      ]
     },
     "execution_count": 17,
     "metadata": {},
     "output_type": "execute_result"
    }
   ],
   "source": [
    "# Matriz de adyacencia\n",
    "adj = nx.adjacency_matrix(G).todense()\n",
    "adj"
   ]
  },
  {
   "cell_type": "code",
   "execution_count": 18,
   "metadata": {},
   "outputs": [
    {
     "data": {
      "text/plain": [
       "array([[3, 1, 1, 2, 1],\n",
       "       [1, 3, 0, 1, 2],\n",
       "       [1, 0, 1, 1, 0],\n",
       "       [2, 1, 1, 3, 1],\n",
       "       [1, 2, 0, 1, 2]])"
      ]
     },
     "execution_count": 18,
     "metadata": {},
     "output_type": "execute_result"
    }
   ],
   "source": [
    "# Distancia de orden 2\n",
    "dist_o2 = adj @ adj\n",
    "dist_o2"
   ]
  },
  {
   "cell_type": "code",
   "execution_count": 19,
   "metadata": {},
   "outputs": [
    {
     "name": "stdout",
     "output_type": "stream",
     "text": [
      "Caminos de orden dos entre los nodos 2 y 5  ->  2\n"
     ]
    }
   ],
   "source": [
    "print(f\"Caminos de orden dos entre los nodos 2 y 5  ->  {dist_o2[1,4]}\")"
   ]
  },
  {
   "cell_type": "markdown",
   "metadata": {},
   "source": [
    "### Camino más corto o Shortest Path"
   ]
  },
  {
   "cell_type": "code",
   "execution_count": 20,
   "metadata": {},
   "outputs": [
    {
     "data": {
      "text/plain": [
       "[2, 1, 5]"
      ]
     },
     "execution_count": 20,
     "metadata": {},
     "output_type": "execute_result"
    }
   ],
   "source": [
    "nx.shortest_path(G, source=2, target=5)"
   ]
  },
  {
   "cell_type": "markdown",
   "metadata": {},
   "source": [
    "## Grafo Ponderado"
   ]
  },
  {
   "cell_type": "code",
   "execution_count": 21,
   "metadata": {},
   "outputs": [
    {
     "data": {
      "text/plain": [
       "EdgeDataView([(1, 2, {'weight': 0.5}), (1, 4, {'weight': 0.1}), (1, 5, {'weight': 0.75}), (2, 3, {'weight': 0.9}), (2, 4, {'weight': 0.01}), (4, 5, {'weight': 0.3})])"
      ]
     },
     "execution_count": 21,
     "metadata": {},
     "output_type": "execute_result"
    }
   ],
   "source": [
    "# Creacion del grafo\n",
    "G = nx.Graph()\n",
    "G.add_weighted_edges_from(\n",
    "  [(1, 2, 0.5),\n",
    "  (2, 3, 0.9),\n",
    "  (1, 4, 0.1),\n",
    "  (1, 5, 0.75),\n",
    "  (4, 2, 0.01),\n",
    "  (5, 4, 0.3)]\n",
    ")\n",
    "G.edges(data=True)"
   ]
  },
  {
   "cell_type": "code",
   "execution_count": 22,
   "metadata": {},
   "outputs": [
    {
     "name": "stdout",
     "output_type": "stream",
     "text": [
      "\n",
      "G             -> Graph with 5 nodes and 6 edges\n",
      "Es dirigido   -> False\n",
      "Es ponderado  -> True\n",
      "\n"
     ]
    },
    {
     "data": {
      "text/plain": [
       "[(1, 2, {'weight': 0.5}),\n",
       " (1, 4, {'weight': 0.1}),\n",
       " (1, 5, {'weight': 0.75}),\n",
       " (2, 3, {'weight': 0.9}),\n",
       " (2, 4, {'weight': 0.01}),\n",
       " (4, 5, {'weight': 0.3})]"
      ]
     },
     "execution_count": 22,
     "metadata": {},
     "output_type": "execute_result"
    }
   ],
   "source": [
    "print(f\"\"\"\n",
    "G             -> {G}\n",
    "Es dirigido   -> {G.is_directed()}\n",
    "Es ponderado  -> {nx.is_weighted(G)}\n",
    "\"\"\")\n",
    "\n",
    "[a for a in G.edges(data=True)]"
   ]
  },
  {
   "cell_type": "code",
   "execution_count": 23,
   "metadata": {},
   "outputs": [],
   "source": [
    "w = [a[2]['weight'] for a in G.edges(data=True)]"
   ]
  },
  {
   "cell_type": "markdown",
   "metadata": {},
   "source": [
    "## Layouts"
   ]
  },
  {
   "cell_type": "code",
   "execution_count": 39,
   "metadata": {},
   "outputs": [],
   "source": [
    "# Algunos ejemplos de layouts utilizados \n",
    "\n",
    "#pos = nx.spring_layout(G)\n",
    "#pos = nx.bipartite_layout(G)\n",
    "#pos = nx.circular_layout(G)\n",
    "#pos = nx.kamada_kawai_layout(G)\n",
    "#pos = nx.planar_layout(G)\n",
    "pos = nx.random_layout(G)\n",
    "#pos = nx.shell_layout(G)\n",
    "#pos = nx.spectral_layout(G)\n",
    "#pos = nx.spiral_layout(G)"
   ]
  },
  {
   "cell_type": "code",
   "execution_count": 40,
   "metadata": {},
   "outputs": [
    {
     "ename": "TypeError",
     "evalue": "unsupported operand type(s) for *: 'int' and 'dict'",
     "output_type": "error",
     "traceback": [
      "\u001b[1;31m---------------------------------------------------------------------------\u001b[0m",
      "\u001b[1;31mTypeError\u001b[0m                                 Traceback (most recent call last)",
      "Cell \u001b[1;32mIn[40], line 7\u001b[0m\n\u001b[0;32m      1\u001b[0m fig, ax \u001b[38;5;241m=\u001b[39m plt\u001b[38;5;241m.\u001b[39msubplots(figsize\u001b[38;5;241m=\u001b[39m(\u001b[38;5;241m3\u001b[39m,\u001b[38;5;241m2\u001b[39m))\n\u001b[0;32m      2\u001b[0m nx\u001b[38;5;241m.\u001b[39mdraw_networkx_nodes(\n\u001b[0;32m      3\u001b[0m   G,\n\u001b[0;32m      4\u001b[0m   pos \u001b[38;5;241m=\u001b[39m pos,\n\u001b[0;32m      5\u001b[0m   ax \u001b[38;5;241m=\u001b[39m ax\n\u001b[0;32m      6\u001b[0m )\n\u001b[1;32m----> 7\u001b[0m \u001b[43mnx\u001b[49m\u001b[38;5;241;43m.\u001b[39;49m\u001b[43mdraw_networkx_edges\u001b[49m\u001b[43m(\u001b[49m\n\u001b[0;32m      8\u001b[0m \u001b[43m  \u001b[49m\u001b[43mG\u001b[49m\u001b[43m,\u001b[49m\n\u001b[0;32m      9\u001b[0m \u001b[43m  \u001b[49m\u001b[43mpos\u001b[49m\u001b[43m \u001b[49m\u001b[38;5;241;43m=\u001b[39;49m\u001b[43m \u001b[49m\u001b[43mpos\u001b[49m\u001b[43m,\u001b[49m\n\u001b[0;32m     10\u001b[0m \u001b[43m  \u001b[49m\u001b[43medgelist\u001b[49m\u001b[43m \u001b[49m\u001b[38;5;241;43m=\u001b[39;49m\u001b[43m \u001b[49m\u001b[43mG\u001b[49m\u001b[38;5;241;43m.\u001b[39;49m\u001b[43medges\u001b[49m\u001b[43m,\u001b[49m\n\u001b[0;32m     11\u001b[0m \u001b[43m  \u001b[49m\u001b[43mwidth\u001b[49m\u001b[43m \u001b[49m\u001b[38;5;241;43m=\u001b[39;49m\u001b[43m \u001b[49m\u001b[43mw\u001b[49m\u001b[43m,\u001b[49m\n\u001b[0;32m     12\u001b[0m \u001b[43m  \u001b[49m\u001b[43max\u001b[49m\u001b[43m \u001b[49m\u001b[38;5;241;43m=\u001b[39;49m\u001b[43m \u001b[49m\u001b[43max\u001b[49m\n\u001b[0;32m     13\u001b[0m \u001b[43m)\u001b[49m;\n",
      "File \u001b[1;32mc:\\Users\\Zkorpion\\AppData\\Local\\Programs\\Python\\Python312\\Lib\\site-packages\\networkx\\drawing\\nx_pylab.py:996\u001b[0m, in \u001b[0;36mdraw_networkx_edges\u001b[1;34m(G, pos, edgelist, width, edge_color, style, alpha, arrowstyle, arrowsize, edge_cmap, edge_vmin, edge_vmax, ax, arrows, label, node_size, nodelist, node_shape, connectionstyle, min_source_margin, min_target_margin, hide_ticks)\u001b[0m\n\u001b[0;32m    994\u001b[0m \u001b[38;5;66;03m# Draw the edges\u001b[39;00m\n\u001b[0;32m    995\u001b[0m \u001b[38;5;28;01mif\u001b[39;00m use_linecollection:\n\u001b[1;32m--> 996\u001b[0m     edge_collection \u001b[38;5;241m=\u001b[39m \u001b[43mmpl\u001b[49m\u001b[38;5;241;43m.\u001b[39;49m\u001b[43mcollections\u001b[49m\u001b[38;5;241;43m.\u001b[39;49m\u001b[43mLineCollection\u001b[49m\u001b[43m(\u001b[49m\n\u001b[0;32m    997\u001b[0m \u001b[43m        \u001b[49m\u001b[43medge_pos\u001b[49m\u001b[43m,\u001b[49m\n\u001b[0;32m    998\u001b[0m \u001b[43m        \u001b[49m\u001b[43mcolors\u001b[49m\u001b[38;5;241;43m=\u001b[39;49m\u001b[43medge_color\u001b[49m\u001b[43m,\u001b[49m\n\u001b[0;32m    999\u001b[0m \u001b[43m        \u001b[49m\u001b[43mlinewidths\u001b[49m\u001b[38;5;241;43m=\u001b[39;49m\u001b[43mwidth\u001b[49m\u001b[43m,\u001b[49m\n\u001b[0;32m   1000\u001b[0m \u001b[43m        \u001b[49m\u001b[43mantialiaseds\u001b[49m\u001b[38;5;241;43m=\u001b[39;49m\u001b[43m(\u001b[49m\u001b[38;5;241;43m1\u001b[39;49m\u001b[43m,\u001b[49m\u001b[43m)\u001b[49m\u001b[43m,\u001b[49m\n\u001b[0;32m   1001\u001b[0m \u001b[43m        \u001b[49m\u001b[43mlinestyle\u001b[49m\u001b[38;5;241;43m=\u001b[39;49m\u001b[43mstyle\u001b[49m\u001b[43m,\u001b[49m\n\u001b[0;32m   1002\u001b[0m \u001b[43m        \u001b[49m\u001b[43malpha\u001b[49m\u001b[38;5;241;43m=\u001b[39;49m\u001b[43malpha\u001b[49m\u001b[43m,\u001b[49m\n\u001b[0;32m   1003\u001b[0m \u001b[43m    \u001b[49m\u001b[43m)\u001b[49m\n\u001b[0;32m   1004\u001b[0m     edge_collection\u001b[38;5;241m.\u001b[39mset_cmap(edge_cmap)\n\u001b[0;32m   1005\u001b[0m     edge_collection\u001b[38;5;241m.\u001b[39mset_clim(edge_vmin, edge_vmax)\n",
      "File \u001b[1;32mc:\\Users\\Zkorpion\\AppData\\Local\\Programs\\Python\\Python312\\Lib\\site-packages\\matplotlib\\collections.py:1393\u001b[0m, in \u001b[0;36mLineCollection.__init__\u001b[1;34m(self, segments, zorder, **kwargs)\u001b[0m\n\u001b[0;32m   1391\u001b[0m \u001b[38;5;66;03m# Unfortunately, mplot3d needs this explicit setting of 'facecolors'.\u001b[39;00m\n\u001b[0;32m   1392\u001b[0m kwargs\u001b[38;5;241m.\u001b[39msetdefault(\u001b[38;5;124m'\u001b[39m\u001b[38;5;124mfacecolors\u001b[39m\u001b[38;5;124m'\u001b[39m, \u001b[38;5;124m'\u001b[39m\u001b[38;5;124mnone\u001b[39m\u001b[38;5;124m'\u001b[39m)\n\u001b[1;32m-> 1393\u001b[0m \u001b[38;5;28;43msuper\u001b[39;49m\u001b[43m(\u001b[49m\u001b[43m)\u001b[49m\u001b[38;5;241;43m.\u001b[39;49m\u001b[38;5;21;43m__init__\u001b[39;49m\u001b[43m(\u001b[49m\n\u001b[0;32m   1394\u001b[0m \u001b[43m    \u001b[49m\u001b[43mzorder\u001b[49m\u001b[38;5;241;43m=\u001b[39;49m\u001b[43mzorder\u001b[49m\u001b[43m,\u001b[49m\n\u001b[0;32m   1395\u001b[0m \u001b[43m    \u001b[49m\u001b[38;5;241;43m*\u001b[39;49m\u001b[38;5;241;43m*\u001b[39;49m\u001b[43mkwargs\u001b[49m\u001b[43m)\u001b[49m\n\u001b[0;32m   1396\u001b[0m \u001b[38;5;28mself\u001b[39m\u001b[38;5;241m.\u001b[39mset_segments(segments)\n",
      "File \u001b[1;32mc:\\Users\\Zkorpion\\AppData\\Local\\Programs\\Python\\Python312\\Lib\\site-packages\\matplotlib\\collections.py:178\u001b[0m, in \u001b[0;36mCollection.__init__\u001b[1;34m(self, edgecolors, facecolors, linewidths, linestyles, capstyle, joinstyle, antialiaseds, offsets, offset_transform, norm, cmap, pickradius, hatch, urls, zorder, **kwargs)\u001b[0m\n\u001b[0;32m    176\u001b[0m \u001b[38;5;28mself\u001b[39m\u001b[38;5;241m.\u001b[39mset_facecolor(facecolors)\n\u001b[0;32m    177\u001b[0m \u001b[38;5;28mself\u001b[39m\u001b[38;5;241m.\u001b[39mset_edgecolor(edgecolors)\n\u001b[1;32m--> 178\u001b[0m \u001b[38;5;28;43mself\u001b[39;49m\u001b[38;5;241;43m.\u001b[39;49m\u001b[43mset_linewidth\u001b[49m\u001b[43m(\u001b[49m\u001b[43mlinewidths\u001b[49m\u001b[43m)\u001b[49m\n\u001b[0;32m    179\u001b[0m \u001b[38;5;28mself\u001b[39m\u001b[38;5;241m.\u001b[39mset_linestyle(linestyles)\n\u001b[0;32m    180\u001b[0m \u001b[38;5;28mself\u001b[39m\u001b[38;5;241m.\u001b[39mset_antialiased(antialiaseds)\n",
      "File \u001b[1;32mc:\\Users\\Zkorpion\\AppData\\Local\\Programs\\Python\\Python312\\Lib\\site-packages\\matplotlib\\collections.py:587\u001b[0m, in \u001b[0;36mCollection.set_linewidth\u001b[1;34m(self, lw)\u001b[0m\n\u001b[0;32m    584\u001b[0m \u001b[38;5;28mself\u001b[39m\u001b[38;5;241m.\u001b[39m_us_lw \u001b[38;5;241m=\u001b[39m np\u001b[38;5;241m.\u001b[39matleast_1d(lw)\n\u001b[0;32m    586\u001b[0m \u001b[38;5;66;03m# scale all of the dash patterns.\u001b[39;00m\n\u001b[1;32m--> 587\u001b[0m \u001b[38;5;28mself\u001b[39m\u001b[38;5;241m.\u001b[39m_linewidths, \u001b[38;5;28mself\u001b[39m\u001b[38;5;241m.\u001b[39m_linestyles \u001b[38;5;241m=\u001b[39m \u001b[38;5;28;43mself\u001b[39;49m\u001b[38;5;241;43m.\u001b[39;49m\u001b[43m_bcast_lwls\u001b[49m\u001b[43m(\u001b[49m\n\u001b[0;32m    588\u001b[0m \u001b[43m    \u001b[49m\u001b[38;5;28;43mself\u001b[39;49m\u001b[38;5;241;43m.\u001b[39;49m\u001b[43m_us_lw\u001b[49m\u001b[43m,\u001b[49m\u001b[43m \u001b[49m\u001b[38;5;28;43mself\u001b[39;49m\u001b[38;5;241;43m.\u001b[39;49m\u001b[43m_us_linestyles\u001b[49m\u001b[43m)\u001b[49m\n\u001b[0;32m    589\u001b[0m \u001b[38;5;28mself\u001b[39m\u001b[38;5;241m.\u001b[39mstale \u001b[38;5;241m=\u001b[39m \u001b[38;5;28;01mTrue\u001b[39;00m\n",
      "File \u001b[1;32mc:\\Users\\Zkorpion\\AppData\\Local\\Programs\\Python\\Python312\\Lib\\site-packages\\matplotlib\\collections.py:710\u001b[0m, in \u001b[0;36mCollection._bcast_lwls\u001b[1;34m(linewidths, dashes)\u001b[0m\n\u001b[0;32m    707\u001b[0m     linewidths \u001b[38;5;241m=\u001b[39m \u001b[38;5;28mlist\u001b[39m(linewidths) \u001b[38;5;241m*\u001b[39m (l_dashes \u001b[38;5;241m/\u001b[39m\u001b[38;5;241m/\u001b[39m gcd)\n\u001b[0;32m    709\u001b[0m \u001b[38;5;66;03m# scale the dash patterns\u001b[39;00m\n\u001b[1;32m--> 710\u001b[0m dashes \u001b[38;5;241m=\u001b[39m [\u001b[43mmlines\u001b[49m\u001b[38;5;241;43m.\u001b[39;49m\u001b[43m_scale_dashes\u001b[49m\u001b[43m(\u001b[49m\u001b[43mo\u001b[49m\u001b[43m,\u001b[49m\u001b[43m \u001b[49m\u001b[43md\u001b[49m\u001b[43m,\u001b[49m\u001b[43m \u001b[49m\u001b[43mlw\u001b[49m\u001b[43m)\u001b[49m\n\u001b[0;32m    711\u001b[0m           \u001b[38;5;28;01mfor\u001b[39;00m (o, d), lw \u001b[38;5;129;01min\u001b[39;00m \u001b[38;5;28mzip\u001b[39m(dashes, linewidths)]\n\u001b[0;32m    713\u001b[0m \u001b[38;5;28;01mreturn\u001b[39;00m linewidths, dashes\n",
      "File \u001b[1;32mc:\\Users\\Zkorpion\\AppData\\Local\\Programs\\Python\\Python312\\Lib\\site-packages\\matplotlib\\lines.py:78\u001b[0m, in \u001b[0;36m_scale_dashes\u001b[1;34m(offset, dashes, lw)\u001b[0m\n\u001b[0;32m     76\u001b[0m \u001b[38;5;28;01mif\u001b[39;00m \u001b[38;5;129;01mnot\u001b[39;00m mpl\u001b[38;5;241m.\u001b[39mrcParams[\u001b[38;5;124m'\u001b[39m\u001b[38;5;124mlines.scale_dashes\u001b[39m\u001b[38;5;124m'\u001b[39m]:\n\u001b[0;32m     77\u001b[0m     \u001b[38;5;28;01mreturn\u001b[39;00m offset, dashes\n\u001b[1;32m---> 78\u001b[0m scaled_offset \u001b[38;5;241m=\u001b[39m \u001b[43moffset\u001b[49m\u001b[43m \u001b[49m\u001b[38;5;241;43m*\u001b[39;49m\u001b[43m \u001b[49m\u001b[43mlw\u001b[49m\n\u001b[0;32m     79\u001b[0m scaled_dashes \u001b[38;5;241m=\u001b[39m ([x \u001b[38;5;241m*\u001b[39m lw \u001b[38;5;28;01mif\u001b[39;00m x \u001b[38;5;129;01mis\u001b[39;00m \u001b[38;5;129;01mnot\u001b[39;00m \u001b[38;5;28;01mNone\u001b[39;00m \u001b[38;5;28;01melse\u001b[39;00m \u001b[38;5;28;01mNone\u001b[39;00m \u001b[38;5;28;01mfor\u001b[39;00m x \u001b[38;5;129;01min\u001b[39;00m dashes]\n\u001b[0;32m     80\u001b[0m                  \u001b[38;5;28;01mif\u001b[39;00m dashes \u001b[38;5;129;01mis\u001b[39;00m \u001b[38;5;129;01mnot\u001b[39;00m \u001b[38;5;28;01mNone\u001b[39;00m \u001b[38;5;28;01melse\u001b[39;00m \u001b[38;5;28;01mNone\u001b[39;00m)\n\u001b[0;32m     81\u001b[0m \u001b[38;5;28;01mreturn\u001b[39;00m scaled_offset, scaled_dashes\n",
      "\u001b[1;31mTypeError\u001b[0m: unsupported operand type(s) for *: 'int' and 'dict'"
     ]
    },
    {
     "data": {
      "image/png": "[encoded data removed]",
      "text/plain": [
       "<Figure size 300x200 with 1 Axes>"
      ]
     },
     "metadata": {},
     "output_type": "display_data"
    }
   ],
   "source": [
    "fig, ax = plt.subplots(figsize=(3,2))\n",
    "nx.draw_networkx_nodes(\n",
    "  G,\n",
    "  pos = pos,\n",
    "  ax = ax\n",
    ")\n",
    "nx.draw_networkx_edges(\n",
    "  G,\n",
    "  pos = pos,\n",
    "  edgelist = G.edges,\n",
    "  width = w,\n",
    "  ax = ax\n",
    ");"
   ]
  },
  {
   "cell_type": "code",
   "execution_count": 26,
   "metadata": {},
   "outputs": [
    {
     "data": {
      "image/png": "[encoded data removed]",
      "text/plain": [
       "<Figure size 300x300 with 1 Axes>"
      ]
     },
     "metadata": {},
     "output_type": "display_data"
    }
   ],
   "source": [
    "# Representacion de forma separada los nodos y ejes para mayor control sobre caracteristicas visuales\n",
    "pos = nx.circular_layout(G)\n",
    "\n",
    "fig, ax = plt.subplots(figsize=(3,3))\n",
    "nx.draw_networkx_nodes(G, pos=pos, node_color=\"red\", ax=ax)\n",
    "nx.draw_networkx_edges(G, pos=pos, edgelist=G.edges, width=w, edge_color=\"blue\", ax=ax);"
   ]
  },
  {
   "cell_type": "markdown",
   "metadata": {},
   "source": [
    "## Grafo bipartito\n",
    "\n",
    "En este tipo de grafos, las conexiones únicamente pueden ocurrir entre nodos de distinta naturaleza. \n",
    "\n",
    "En el siguiente ejemplo definiremos un grafo semejante a:\n",
    "\n",
    "![alt-image](../resources/image_4.png)"
   ]
  },
  {
   "cell_type": "code",
   "execution_count": 27,
   "metadata": {},
   "outputs": [],
   "source": [
    "G = nx.Graph()\n",
    "\n",
    "G.add_nodes_from(['Movie 1', 'Movie 2', 'Movie 3'], bipartite='Movies')\n",
    "G.add_nodes_from(['Actor 1', 'Actor 2', 'Actor 3'], bipartite='Actors')\n",
    "\n",
    "G.add_edges_from([\n",
    "    ('Movie 1', 'Actor 1'),\n",
    "    ('Movie 2', 'Actor 2'),\n",
    "    ('Movie 3', 'Actor 3'),\n",
    "    ('Movie 2', 'Actor 3'),\n",
    "    ('Movie 2', \"Actor 1\"),\n",
    "  ]\n",
    ")"
   ]
  },
  {
   "cell_type": "code",
   "execution_count": 28,
   "metadata": {},
   "outputs": [
    {
     "data": {
      "text/plain": [
       "NodeDataView({'Movie 1': {'bipartite': 'Movies'}, 'Movie 2': {'bipartite': 'Movies'}, 'Movie 3': {'bipartite': 'Movies'}, 'Actor 1': {'bipartite': 'Actors'}, 'Actor 2': {'bipartite': 'Actors'}, 'Actor 3': {'bipartite': 'Actors'}})"
      ]
     },
     "execution_count": 28,
     "metadata": {},
     "output_type": "execute_result"
    }
   ],
   "source": [
    "G.nodes(data=True)"
   ]
  },
  {
   "cell_type": "code",
   "execution_count": 29,
   "metadata": {},
   "outputs": [
    {
     "data": {
      "text/plain": [
       "['Movies', 'Movies', 'Movies', 'Actors', 'Actors', 'Actors']"
      ]
     },
     "execution_count": 29,
     "metadata": {},
     "output_type": "execute_result"
    }
   ],
   "source": [
    "node_type = [G.nodes[i]['bipartite'] for i in G.nodes()]\n",
    "node_type"
   ]
  },
  {
   "cell_type": "code",
   "execution_count": 30,
   "metadata": {},
   "outputs": [
    {
     "data": {
      "image/png": "[encoded data removed]",
      "text/plain": [
       "<Figure size 500x400 with 1 Axes>"
      ]
     },
     "metadata": {},
     "output_type": "display_data"
    }
   ],
   "source": [
    "colors = {'Movies': 'red', 'Actors': 'blue'}\n",
    "colors_nodes = [colors[n] for n in node_type]\n",
    "\n",
    "fig, ax = plt.subplots(figsize=(5, 4))\n",
    "nx.draw(\n",
    "  G,\n",
    "  pos=nx.spring_layout(G),\n",
    "  with_labels=True,\n",
    "  node_color=colors_nodes,\n",
    "  ax=ax,\n",
    ")"
   ]
  },
  {
   "cell_type": "markdown",
   "metadata": {},
   "source": [
    "> `with_labels=True` se muestran las etiquetas de los nodos\n",
    "> \n",
    "> `node_colors` se asigna el color de cada nodo"
   ]
  },
  {
   "cell_type": "markdown",
   "metadata": {},
   "source": [
    "### Proyección en Grafos Bipartitos"
   ]
  },
  {
   "cell_type": "code",
   "execution_count": 31,
   "metadata": {},
   "outputs": [
    {
     "data": {
      "text/plain": [
       "(-1.4166042807888626, 1.0795021930637447)"
      ]
     },
     "execution_count": 31,
     "metadata": {},
     "output_type": "execute_result"
    },
    {
     "data": {
      "image/png": "[encoded data removed]",
      "text/plain": [
       "<Figure size 400x400 with 1 Axes>"
      ]
     },
     "metadata": {},
     "output_type": "display_data"
    }
   ],
   "source": [
    "nodes_bipartite = [\n",
    "  n[0]\n",
    "  for n in G.nodes(data=True)\n",
    "  if n[1]['bipartite'] == 'Actors'\n",
    "]\n",
    "\n",
    "# Proyeccion del grafo bipartito para obtener solo los nodos del grupo A\n",
    "G_actores = nx.bipartite.projected_graph(G, nodes_bipartite)\n",
    "\n",
    "fig, ax = plt.subplots(figsize=(4, 4))\n",
    "nx.draw(G_actores, with_labels=True, ax=ax)\n",
    "ax.set_xlim([1.2 * x for x in ax.get_xlim()])\n",
    "ax.set_ylim([1.2 * y for y in ax.get_ylim()])"
   ]
  },
  {
   "cell_type": "markdown",
   "metadata": {},
   "source": [
    "## Meta-información: Atributos en nodos y aristas"
   ]
  },
  {
   "cell_type": "code",
   "execution_count": 32,
   "metadata": {},
   "outputs": [
    {
     "data": {
      "text/plain": [
       "EdgeDataView([(1, 2, {}), (1, 4, {}), (1, 5, {}), (2, 3, {}), (2, 4, {}), (4, 5, {})])"
      ]
     },
     "execution_count": 32,
     "metadata": {},
     "output_type": "execute_result"
    }
   ],
   "source": [
    "# Creacion del grafo\n",
    "G = nx.Graph()\n",
    "G.add_edges_from([(1, 2), (2, 3), (1, 4), (1, 5), (4, 2), (5, 4)])\n",
    "G.edges(data=True)"
   ]
  },
  {
   "cell_type": "code",
   "execution_count": 33,
   "metadata": {},
   "outputs": [],
   "source": [
    "# Añadir atributos de los nodos\n",
    "node_name = {1: \"Jaime\", 2: \"Maria\", 3: \"Julio\", 4: \"Rosa\", 5: \"Alberto\"}\n",
    "\n",
    "node_hobbies = {\n",
    "    1: [\"Futbol\"],\n",
    "    2: [\"Dance\", \"Play\"],\n",
    "    3: [\"Golf\", \"Dance\"],\n",
    "    4: [\"Cook\"],\n",
    "    5: [\"Cook\", \"Play\"],\n",
    "}\n",
    "\n",
    "nx.set_node_attributes(G, node_name, name=\"Name\")\n",
    "nx.set_node_attributes(G, node_hobbies, name=\"Hobby\")"
   ]
  },
  {
   "cell_type": "code",
   "execution_count": 34,
   "metadata": {},
   "outputs": [],
   "source": [
    "# Añadir atributos de las aristas\n",
    "edges_weight = {\n",
    "    (1, 2): 0.5,\n",
    "    (2, 3): 0.9,\n",
    "    (1, 4): 0.1,\n",
    "    (1, 5): 0.75,\n",
    "    (4, 2): 0.01,\n",
    "    (5, 4): 0.3,\n",
    "}\n",
    "\n",
    "nx.set_edge_attributes(G, edges_weight, name=\"weight\")"
   ]
  },
  {
   "cell_type": "code",
   "execution_count": 35,
   "metadata": {},
   "outputs": [
    {
     "data": {
      "text/plain": [
       "NodeDataView({1: {'Name': 'Jaime', 'Hobby': ['Futbol']}, 2: {'Name': 'Maria', 'Hobby': ['Dance', 'Play']}, 3: {'Name': 'Julio', 'Hobby': ['Golf', 'Dance']}, 4: {'Name': 'Rosa', 'Hobby': ['Cook']}, 5: {'Name': 'Alberto', 'Hobby': ['Cook', 'Play']}})"
      ]
     },
     "execution_count": 35,
     "metadata": {},
     "output_type": "execute_result"
    }
   ],
   "source": [
    "G.nodes(data=True)"
   ]
  },
  {
   "cell_type": "code",
   "execution_count": 36,
   "metadata": {},
   "outputs": [
    {
     "data": {
      "text/plain": [
       "EdgeDataView([(1, 2, {'weight': 0.5}), (1, 4, {'weight': 0.1}), (1, 5, {'weight': 0.75}), (2, 3, {'weight': 0.9}), (2, 4, {'weight': 0.01}), (4, 5, {'weight': 0.3})])"
      ]
     },
     "execution_count": 36,
     "metadata": {},
     "output_type": "execute_result"
    }
   ],
   "source": [
    "G.edges(data=True)"
   ]
  },
  {
   "cell_type": "code",
   "execution_count": 37,
   "metadata": {},
   "outputs": [
    {
     "name": "stdout",
     "output_type": "stream",
     "text": [
      "===== Informacion sobre las aristas =====\n",
      "Aristas que conecta el nodo 1 con el nodo 2  ->  Peso de 0.5 \n",
      "Aristas que conecta el nodo 1 con el nodo 4  ->  Peso de 0.1 \n",
      "Aristas que conecta el nodo 1 con el nodo 5  ->  Peso de 0.75 \n",
      "Aristas que conecta el nodo 2 con el nodo 3  ->  Peso de 0.9 \n",
      "Aristas que conecta el nodo 2 con el nodo 4  ->  Peso de 0.01 \n",
      "Aristas que conecta el nodo 4 con el nodo 5  ->  Peso de 0.3 \n"
     ]
    }
   ],
   "source": [
    "print('===== Informacion sobre las aristas =====')\n",
    "for m,n,w in G.edges(data=True):\n",
    "  print(f\"\"\"Aristas que conecta el nodo {m} con el nodo {n}  ->  Peso de {w['weight']} \"\"\")"
   ]
  }
 ],
 "metadata": {
  "kernelspec": {
   "display_name": "Python 3",
   "language": "python",
   "name": "python3"
  },
  "language_info": {
   "codemirror_mode": {
    "name": "ipython",
    "version": 3
   },
   "file_extension": ".py",
   "mimetype": "text/x-python",
   "name": "python",
   "nbconvert_exporter": "python",
   "pygments_lexer": "ipython3",
   "version": "3.12.2"
  }
 },
 "nbformat": 4,
 "nbformat_minor": 2
}
